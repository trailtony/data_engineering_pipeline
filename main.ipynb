{
 "cells": [
  {
   "cell_type": "markdown",
   "id": "e0d0aa47",
   "metadata": {},
   "source": [
    "#1 Import necessary libraries"
   ]
  },
  {
   "cell_type": "code",
   "execution_count": 3,
   "id": "3436bae4",
   "metadata": {},
   "outputs": [],
   "source": [
    "import sqlite3\n",
    "import pandas as pd"
   ]
  },
  {
   "cell_type": "markdown",
   "id": "66226016",
   "metadata": {},
   "source": [
    "#2 Create a connection"
   ]
  },
  {
   "cell_type": "code",
   "execution_count": 4,
   "id": "a242ae32",
   "metadata": {},
   "outputs": [],
   "source": [
    "con = sqlite3.connect(\"cademycode.db\")"
   ]
  },
  {
   "cell_type": "code",
   "execution_count": 5,
   "id": "cb47b923",
   "metadata": {},
   "outputs": [
    {
     "data": {
      "application/vnd.microsoft.datawrangler.viewer.v0+json": {
       "columns": [
        {
         "name": "index",
         "rawType": "int64",
         "type": "integer"
        },
        {
         "name": "type",
         "rawType": "object",
         "type": "string"
        },
        {
         "name": "name",
         "rawType": "object",
         "type": "string"
        },
        {
         "name": "tbl_name",
         "rawType": "object",
         "type": "string"
        },
        {
         "name": "rootpage",
         "rawType": "int64",
         "type": "integer"
        },
        {
         "name": "sql",
         "rawType": "object",
         "type": "string"
        }
       ],
       "ref": "4e3f4748-4366-4eae-81ce-edf8621705f3",
       "rows": [
        [
         "0",
         "table",
         "cademycode_students",
         "cademycode_students",
         "2",
         "CREATE TABLE cademycode_students (\n\tuuid INTEGER, \n\tname VARCHAR, \n\tdob VARCHAR, \n\tsex TEXT, \n\tcontact_info JSON, \n\tjob_id VARCHAR, \n\tnum_course_taken VARCHAR, \n\tcurrent_career_path_id VARCHAR, \n\ttime_spent_hrs VARCHAR\n)"
        ],
        [
         "1",
         "table",
         "cademycode_courses",
         "cademycode_courses",
         "5",
         "CREATE TABLE cademycode_courses (\n\tcareer_path_id BIGINT, \n\tcareer_path_name TEXT, \n\thours_to_complete BIGINT\n)"
        ],
        [
         "2",
         "table",
         "cademycode_student_jobs",
         "cademycode_student_jobs",
         "6",
         "CREATE TABLE cademycode_student_jobs (\n\tjob_id BIGINT, \n\tjob_category TEXT, \n\tavg_salary BIGINT\n)"
        ]
       ],
       "shape": {
        "columns": 5,
        "rows": 3
       }
      },
      "text/html": [
       "<div>\n",
       "<style scoped>\n",
       "    .dataframe tbody tr th:only-of-type {\n",
       "        vertical-align: middle;\n",
       "    }\n",
       "\n",
       "    .dataframe tbody tr th {\n",
       "        vertical-align: top;\n",
       "    }\n",
       "\n",
       "    .dataframe thead th {\n",
       "        text-align: right;\n",
       "    }\n",
       "</style>\n",
       "<table border=\"1\" class=\"dataframe\">\n",
       "  <thead>\n",
       "    <tr style=\"text-align: right;\">\n",
       "      <th></th>\n",
       "      <th>type</th>\n",
       "      <th>name</th>\n",
       "      <th>tbl_name</th>\n",
       "      <th>rootpage</th>\n",
       "      <th>sql</th>\n",
       "    </tr>\n",
       "  </thead>\n",
       "  <tbody>\n",
       "    <tr>\n",
       "      <th>0</th>\n",
       "      <td>table</td>\n",
       "      <td>cademycode_students</td>\n",
       "      <td>cademycode_students</td>\n",
       "      <td>2</td>\n",
       "      <td>CREATE TABLE cademycode_students (\\n\\tuuid INT...</td>\n",
       "    </tr>\n",
       "    <tr>\n",
       "      <th>1</th>\n",
       "      <td>table</td>\n",
       "      <td>cademycode_courses</td>\n",
       "      <td>cademycode_courses</td>\n",
       "      <td>5</td>\n",
       "      <td>CREATE TABLE cademycode_courses (\\n\\tcareer_pa...</td>\n",
       "    </tr>\n",
       "    <tr>\n",
       "      <th>2</th>\n",
       "      <td>table</td>\n",
       "      <td>cademycode_student_jobs</td>\n",
       "      <td>cademycode_student_jobs</td>\n",
       "      <td>6</td>\n",
       "      <td>CREATE TABLE cademycode_student_jobs (\\n\\tjob_...</td>\n",
       "    </tr>\n",
       "  </tbody>\n",
       "</table>\n",
       "</div>"
      ],
      "text/plain": [
       "    type                     name                 tbl_name  rootpage  \\\n",
       "0  table      cademycode_students      cademycode_students         2   \n",
       "1  table       cademycode_courses       cademycode_courses         5   \n",
       "2  table  cademycode_student_jobs  cademycode_student_jobs         6   \n",
       "\n",
       "                                                 sql  \n",
       "0  CREATE TABLE cademycode_students (\\n\\tuuid INT...  \n",
       "1  CREATE TABLE cademycode_courses (\\n\\tcareer_pa...  \n",
       "2  CREATE TABLE cademycode_student_jobs (\\n\\tjob_...  "
      ]
     },
     "execution_count": 5,
     "metadata": {},
     "output_type": "execute_result"
    }
   ],
   "source": [
    "data_base = pd.read_sql_query(\"SELECT * FROM sqlite_master\", con)\n",
    "data_base.head()"
   ]
  },
  {
   "cell_type": "code",
   "execution_count": 6,
   "id": "1464e7e5",
   "metadata": {},
   "outputs": [
    {
     "data": {
      "application/vnd.microsoft.datawrangler.viewer.v0+json": {
       "columns": [
        {
         "name": "index",
         "rawType": "int64",
         "type": "integer"
        },
        {
         "name": "uuid",
         "rawType": "int64",
         "type": "integer"
        },
        {
         "name": "name",
         "rawType": "object",
         "type": "string"
        },
        {
         "name": "dob",
         "rawType": "object",
         "type": "string"
        },
        {
         "name": "sex",
         "rawType": "object",
         "type": "string"
        },
        {
         "name": "contact_info",
         "rawType": "object",
         "type": "string"
        },
        {
         "name": "job_id",
         "rawType": "object",
         "type": "string"
        },
        {
         "name": "num_course_taken",
         "rawType": "object",
         "type": "string"
        },
        {
         "name": "current_career_path_id",
         "rawType": "object",
         "type": "string"
        },
        {
         "name": "time_spent_hrs",
         "rawType": "object",
         "type": "string"
        }
       ],
       "ref": "135b05c3-9f75-4aeb-9237-d5e117b2238e",
       "rows": [
        [
         "0",
         "1",
         "Annabelle Avery",
         "1943-07-03",
         "F",
         "{\"mailing_address\": \"303 N Timber Key, Irondale, Wisconsin, 84736\", \"email\": \"annabelle_avery9376@woohoo.com\"}",
         "7.0",
         "6.0",
         "1.0",
         "4.99"
        ],
        [
         "1",
         "2",
         "Micah Rubio",
         "1991-02-07",
         "M",
         "{\"mailing_address\": \"767 Crescent Fair, Shoals, Indiana, 37439\", \"email\": \"rubio6772@hmail.com\"}",
         "7.0",
         "5.0",
         "8.0",
         "4.4"
        ],
        [
         "2",
         "3",
         "Hosea Dale",
         "1989-12-07",
         "M",
         "{\"mailing_address\": \"P.O. Box 41269, St. Bonaventure, Virginia, 83637\", \"email\": \"hosea_dale8084@coldmail.com\"}",
         "7.0",
         "8.0",
         "8.0",
         "6.74"
        ],
        [
         "3",
         "4",
         "Mariann Kirk",
         "1988-07-31",
         "F",
         "{\"mailing_address\": \"517 SE Wintergreen Isle, Lane, Arkansas, 82242\", \"email\": \"kirk4005@hmail.com\"}",
         "6.0",
         "7.0",
         "9.0",
         "12.31"
        ],
        [
         "4",
         "5",
         "Lucio Alexander",
         "1963-08-31",
         "M",
         "{\"mailing_address\": \"18 Cinder Cliff, Doyles borough, Rhode Island, 73737\", \"email\": \"alexander9810@hmail.com\"}",
         "7.0",
         "14.0",
         "3.0",
         "5.64"
        ],
        [
         "5",
         "6",
         "Shavonda Mcmahon",
         "1989-10-15",
         "F",
         "{\"mailing_address\": \"P.O. Box 81591, Tarpon Springs, Montana, 37057\", \"email\": \"shavonda5863@coldmail.com\"}",
         "6.0",
         "10.0",
         "3.0",
         "10.12"
        ],
        [
         "6",
         "7",
         "Terrell Bleijenberg",
         "1959-05-05",
         "M",
         "{\"mailing_address\": \"P.O. Box 53471, Oskaloosa, Virginia, 85274\", \"email\": \"bleijenberg188@hmail.com\"}",
         "2.0",
         "9.0",
         "8.0",
         "24.17"
        ],
        [
         "7",
         "8",
         "Stanford Allan",
         "1997-11-22",
         "M",
         "{\"mailing_address\": \"255 Spring Avenue, Point Baker, Texas, 15796\", \"email\": \"stanford_allan8055@coldmail.com\"}",
         "3.0",
         "3.0",
         "1.0",
         "19.54"
        ],
        [
         "8",
         "9",
         "Tricia Delacruz",
         "1961-10-20",
         "F",
         "{\"mailing_address\": \"997 Dewy Apple, Lake Lindsey, Washington, 78266\", \"email\": \"tricia_delacruz6622@woohoo.com\"}",
         "1.0",
         "6.0",
         "9.0",
         "1.75"
        ],
        [
         "9",
         "10",
         "Regenia van der Helm",
         "1999-02-23",
         "N",
         "{\"mailing_address\": \"220 Middle Ridge, Falcon Heights, New Mexico, 46971\", \"email\": \"regenia6908@inlook.com\"}",
         "5.0",
         "7.0",
         "6.0",
         "13.55"
        ]
       ],
       "shape": {
        "columns": 9,
        "rows": 10
       }
      },
      "text/html": [
       "<div>\n",
       "<style scoped>\n",
       "    .dataframe tbody tr th:only-of-type {\n",
       "        vertical-align: middle;\n",
       "    }\n",
       "\n",
       "    .dataframe tbody tr th {\n",
       "        vertical-align: top;\n",
       "    }\n",
       "\n",
       "    .dataframe thead th {\n",
       "        text-align: right;\n",
       "    }\n",
       "</style>\n",
       "<table border=\"1\" class=\"dataframe\">\n",
       "  <thead>\n",
       "    <tr style=\"text-align: right;\">\n",
       "      <th></th>\n",
       "      <th>uuid</th>\n",
       "      <th>name</th>\n",
       "      <th>dob</th>\n",
       "      <th>sex</th>\n",
       "      <th>contact_info</th>\n",
       "      <th>job_id</th>\n",
       "      <th>num_course_taken</th>\n",
       "      <th>current_career_path_id</th>\n",
       "      <th>time_spent_hrs</th>\n",
       "    </tr>\n",
       "  </thead>\n",
       "  <tbody>\n",
       "    <tr>\n",
       "      <th>0</th>\n",
       "      <td>1</td>\n",
       "      <td>Annabelle Avery</td>\n",
       "      <td>1943-07-03</td>\n",
       "      <td>F</td>\n",
       "      <td>{\"mailing_address\": \"303 N Timber Key, Irondal...</td>\n",
       "      <td>7.0</td>\n",
       "      <td>6.0</td>\n",
       "      <td>1.0</td>\n",
       "      <td>4.99</td>\n",
       "    </tr>\n",
       "    <tr>\n",
       "      <th>1</th>\n",
       "      <td>2</td>\n",
       "      <td>Micah Rubio</td>\n",
       "      <td>1991-02-07</td>\n",
       "      <td>M</td>\n",
       "      <td>{\"mailing_address\": \"767 Crescent Fair, Shoals...</td>\n",
       "      <td>7.0</td>\n",
       "      <td>5.0</td>\n",
       "      <td>8.0</td>\n",
       "      <td>4.4</td>\n",
       "    </tr>\n",
       "    <tr>\n",
       "      <th>2</th>\n",
       "      <td>3</td>\n",
       "      <td>Hosea Dale</td>\n",
       "      <td>1989-12-07</td>\n",
       "      <td>M</td>\n",
       "      <td>{\"mailing_address\": \"P.O. Box 41269, St. Bonav...</td>\n",
       "      <td>7.0</td>\n",
       "      <td>8.0</td>\n",
       "      <td>8.0</td>\n",
       "      <td>6.74</td>\n",
       "    </tr>\n",
       "    <tr>\n",
       "      <th>3</th>\n",
       "      <td>4</td>\n",
       "      <td>Mariann Kirk</td>\n",
       "      <td>1988-07-31</td>\n",
       "      <td>F</td>\n",
       "      <td>{\"mailing_address\": \"517 SE Wintergreen Isle, ...</td>\n",
       "      <td>6.0</td>\n",
       "      <td>7.0</td>\n",
       "      <td>9.0</td>\n",
       "      <td>12.31</td>\n",
       "    </tr>\n",
       "    <tr>\n",
       "      <th>4</th>\n",
       "      <td>5</td>\n",
       "      <td>Lucio Alexander</td>\n",
       "      <td>1963-08-31</td>\n",
       "      <td>M</td>\n",
       "      <td>{\"mailing_address\": \"18 Cinder Cliff, Doyles b...</td>\n",
       "      <td>7.0</td>\n",
       "      <td>14.0</td>\n",
       "      <td>3.0</td>\n",
       "      <td>5.64</td>\n",
       "    </tr>\n",
       "    <tr>\n",
       "      <th>5</th>\n",
       "      <td>6</td>\n",
       "      <td>Shavonda Mcmahon</td>\n",
       "      <td>1989-10-15</td>\n",
       "      <td>F</td>\n",
       "      <td>{\"mailing_address\": \"P.O. Box 81591, Tarpon Sp...</td>\n",
       "      <td>6.0</td>\n",
       "      <td>10.0</td>\n",
       "      <td>3.0</td>\n",
       "      <td>10.12</td>\n",
       "    </tr>\n",
       "    <tr>\n",
       "      <th>6</th>\n",
       "      <td>7</td>\n",
       "      <td>Terrell Bleijenberg</td>\n",
       "      <td>1959-05-05</td>\n",
       "      <td>M</td>\n",
       "      <td>{\"mailing_address\": \"P.O. Box 53471, Oskaloosa...</td>\n",
       "      <td>2.0</td>\n",
       "      <td>9.0</td>\n",
       "      <td>8.0</td>\n",
       "      <td>24.17</td>\n",
       "    </tr>\n",
       "    <tr>\n",
       "      <th>7</th>\n",
       "      <td>8</td>\n",
       "      <td>Stanford Allan</td>\n",
       "      <td>1997-11-22</td>\n",
       "      <td>M</td>\n",
       "      <td>{\"mailing_address\": \"255 Spring Avenue, Point ...</td>\n",
       "      <td>3.0</td>\n",
       "      <td>3.0</td>\n",
       "      <td>1.0</td>\n",
       "      <td>19.54</td>\n",
       "    </tr>\n",
       "    <tr>\n",
       "      <th>8</th>\n",
       "      <td>9</td>\n",
       "      <td>Tricia Delacruz</td>\n",
       "      <td>1961-10-20</td>\n",
       "      <td>F</td>\n",
       "      <td>{\"mailing_address\": \"997 Dewy Apple, Lake Lind...</td>\n",
       "      <td>1.0</td>\n",
       "      <td>6.0</td>\n",
       "      <td>9.0</td>\n",
       "      <td>1.75</td>\n",
       "    </tr>\n",
       "    <tr>\n",
       "      <th>9</th>\n",
       "      <td>10</td>\n",
       "      <td>Regenia van der Helm</td>\n",
       "      <td>1999-02-23</td>\n",
       "      <td>N</td>\n",
       "      <td>{\"mailing_address\": \"220 Middle Ridge, Falcon ...</td>\n",
       "      <td>5.0</td>\n",
       "      <td>7.0</td>\n",
       "      <td>6.0</td>\n",
       "      <td>13.55</td>\n",
       "    </tr>\n",
       "  </tbody>\n",
       "</table>\n",
       "</div>"
      ],
      "text/plain": [
       "   uuid                  name         dob sex  \\\n",
       "0     1       Annabelle Avery  1943-07-03   F   \n",
       "1     2           Micah Rubio  1991-02-07   M   \n",
       "2     3            Hosea Dale  1989-12-07   M   \n",
       "3     4          Mariann Kirk  1988-07-31   F   \n",
       "4     5       Lucio Alexander  1963-08-31   M   \n",
       "5     6      Shavonda Mcmahon  1989-10-15   F   \n",
       "6     7   Terrell Bleijenberg  1959-05-05   M   \n",
       "7     8        Stanford Allan  1997-11-22   M   \n",
       "8     9       Tricia Delacruz  1961-10-20   F   \n",
       "9    10  Regenia van der Helm  1999-02-23   N   \n",
       "\n",
       "                                        contact_info job_id num_course_taken  \\\n",
       "0  {\"mailing_address\": \"303 N Timber Key, Irondal...    7.0              6.0   \n",
       "1  {\"mailing_address\": \"767 Crescent Fair, Shoals...    7.0              5.0   \n",
       "2  {\"mailing_address\": \"P.O. Box 41269, St. Bonav...    7.0              8.0   \n",
       "3  {\"mailing_address\": \"517 SE Wintergreen Isle, ...    6.0              7.0   \n",
       "4  {\"mailing_address\": \"18 Cinder Cliff, Doyles b...    7.0             14.0   \n",
       "5  {\"mailing_address\": \"P.O. Box 81591, Tarpon Sp...    6.0             10.0   \n",
       "6  {\"mailing_address\": \"P.O. Box 53471, Oskaloosa...    2.0              9.0   \n",
       "7  {\"mailing_address\": \"255 Spring Avenue, Point ...    3.0              3.0   \n",
       "8  {\"mailing_address\": \"997 Dewy Apple, Lake Lind...    1.0              6.0   \n",
       "9  {\"mailing_address\": \"220 Middle Ridge, Falcon ...    5.0              7.0   \n",
       "\n",
       "  current_career_path_id time_spent_hrs  \n",
       "0                    1.0           4.99  \n",
       "1                    8.0            4.4  \n",
       "2                    8.0           6.74  \n",
       "3                    9.0          12.31  \n",
       "4                    3.0           5.64  \n",
       "5                    3.0          10.12  \n",
       "6                    8.0          24.17  \n",
       "7                    1.0          19.54  \n",
       "8                    9.0           1.75  \n",
       "9                    6.0          13.55  "
      ]
     },
     "execution_count": 6,
     "metadata": {},
     "output_type": "execute_result"
    }
   ],
   "source": [
    "students = pd.read_sql_query(\"SELECT * FROM cademycode_students\", con)\n",
    "students.head(10)"
   ]
  },
  {
   "cell_type": "code",
   "execution_count": 7,
   "id": "d28e3784",
   "metadata": {},
   "outputs": [
    {
     "name": "stdout",
     "output_type": "stream",
     "text": [
      "<class 'pandas.core.frame.DataFrame'>\n",
      "RangeIndex: 5000 entries, 0 to 4999\n",
      "Data columns (total 9 columns):\n",
      " #   Column                  Non-Null Count  Dtype \n",
      "---  ------                  --------------  ----- \n",
      " 0   uuid                    5000 non-null   int64 \n",
      " 1   name                    5000 non-null   object\n",
      " 2   dob                     5000 non-null   object\n",
      " 3   sex                     5000 non-null   object\n",
      " 4   contact_info            5000 non-null   object\n",
      " 5   job_id                  4995 non-null   object\n",
      " 6   num_course_taken        4749 non-null   object\n",
      " 7   current_career_path_id  4529 non-null   object\n",
      " 8   time_spent_hrs          4529 non-null   object\n",
      "dtypes: int64(1), object(8)\n",
      "memory usage: 351.7+ KB\n"
     ]
    }
   ],
   "source": [
    "students.info()"
   ]
  },
  {
   "cell_type": "code",
   "execution_count": 8,
   "id": "5b255f3e",
   "metadata": {},
   "outputs": [
    {
     "data": {
      "application/vnd.microsoft.datawrangler.viewer.v0+json": {
       "columns": [
        {
         "name": "index",
         "rawType": "object",
         "type": "string"
        },
        {
         "name": "0",
         "rawType": "object",
         "type": "unknown"
        }
       ],
       "ref": "7fd1b8fd-e30b-4dc8-bcec-6ae670ee3b2d",
       "rows": [
        [
         "uuid",
         "int64"
        ],
        [
         "name",
         "object"
        ],
        [
         "dob",
         "object"
        ],
        [
         "sex",
         "object"
        ],
        [
         "contact_info",
         "object"
        ],
        [
         "job_id",
         "object"
        ],
        [
         "num_course_taken",
         "object"
        ],
        [
         "current_career_path_id",
         "object"
        ],
        [
         "time_spent_hrs",
         "object"
        ]
       ],
       "shape": {
        "columns": 1,
        "rows": 9
       }
      },
      "text/plain": [
       "uuid                       int64\n",
       "name                      object\n",
       "dob                       object\n",
       "sex                       object\n",
       "contact_info              object\n",
       "job_id                    object\n",
       "num_course_taken          object\n",
       "current_career_path_id    object\n",
       "time_spent_hrs            object\n",
       "dtype: object"
      ]
     },
     "execution_count": 8,
     "metadata": {},
     "output_type": "execute_result"
    }
   ],
   "source": [
    "students.dtypes"
   ]
  },
  {
   "cell_type": "code",
   "execution_count": 9,
   "id": "eecc565a",
   "metadata": {},
   "outputs": [
    {
     "data": {
      "application/vnd.microsoft.datawrangler.viewer.v0+json": {
       "columns": [
        {
         "name": "index",
         "rawType": "object",
         "type": "string"
        },
        {
         "name": "0",
         "rawType": "int64",
         "type": "integer"
        }
       ],
       "ref": "b9b64f13-5648-48f2-8868-1609cdffac11",
       "rows": [
        [
         "uuid",
         "5000"
        ],
        [
         "name",
         "4998"
        ],
        [
         "dob",
         "4492"
        ],
        [
         "sex",
         "3"
        ],
        [
         "contact_info",
         "5000"
        ],
        [
         "job_id",
         "8"
        ],
        [
         "num_course_taken",
         "16"
        ],
        [
         "current_career_path_id",
         "10"
        ],
        [
         "time_spent_hrs",
         "2192"
        ]
       ],
       "shape": {
        "columns": 1,
        "rows": 9
       }
      },
      "text/plain": [
       "uuid                      5000\n",
       "name                      4998\n",
       "dob                       4492\n",
       "sex                          3\n",
       "contact_info              5000\n",
       "job_id                       8\n",
       "num_course_taken            16\n",
       "current_career_path_id      10\n",
       "time_spent_hrs            2192\n",
       "dtype: int64"
      ]
     },
     "execution_count": 9,
     "metadata": {},
     "output_type": "execute_result"
    }
   ],
   "source": [
    "students.drop_duplicates(inplace=True)\n",
    "students.nunique()"
   ]
  },
  {
   "cell_type": "code",
   "execution_count": 10,
   "id": "793514a3",
   "metadata": {},
   "outputs": [
    {
     "data": {
      "application/vnd.microsoft.datawrangler.viewer.v0+json": {
       "columns": [
        {
         "name": "index",
         "rawType": "object",
         "type": "string"
        },
        {
         "name": "0",
         "rawType": "int64",
         "type": "integer"
        }
       ],
       "ref": "4f8a4f03-1404-44b8-9504-28dd81dcfffc",
       "rows": [
        [
         "uuid",
         "0"
        ],
        [
         "name",
         "0"
        ],
        [
         "dob",
         "0"
        ],
        [
         "sex",
         "0"
        ],
        [
         "contact_info",
         "0"
        ],
        [
         "job_id",
         "5"
        ],
        [
         "num_course_taken",
         "251"
        ],
        [
         "current_career_path_id",
         "471"
        ],
        [
         "time_spent_hrs",
         "471"
        ]
       ],
       "shape": {
        "columns": 1,
        "rows": 9
       }
      },
      "text/plain": [
       "uuid                        0\n",
       "name                        0\n",
       "dob                         0\n",
       "sex                         0\n",
       "contact_info                0\n",
       "job_id                      5\n",
       "num_course_taken          251\n",
       "current_career_path_id    471\n",
       "time_spent_hrs            471\n",
       "dtype: int64"
      ]
     },
     "execution_count": 10,
     "metadata": {},
     "output_type": "execute_result"
    }
   ],
   "source": [
    "students.isna().sum()"
   ]
  },
  {
   "cell_type": "code",
   "execution_count": 11,
   "id": "1974d11d",
   "metadata": {},
   "outputs": [
    {
     "data": {
      "application/vnd.microsoft.datawrangler.viewer.v0+json": {
       "columns": [
        {
         "name": "index",
         "rawType": "object",
         "type": "string"
        },
        {
         "name": "uuid",
         "rawType": "float64",
         "type": "float"
        }
       ],
       "ref": "87a617b6-0542-4068-b189-376304fed8a2",
       "rows": [
        [
         "count",
         "5000.0"
        ],
        [
         "mean",
         "2500.5"
        ],
        [
         "std",
         "1443.5200033252052"
        ],
        [
         "min",
         "1.0"
        ],
        [
         "25%",
         "1250.75"
        ],
        [
         "50%",
         "2500.5"
        ],
        [
         "75%",
         "3750.25"
        ],
        [
         "max",
         "5000.0"
        ]
       ],
       "shape": {
        "columns": 1,
        "rows": 8
       }
      },
      "text/html": [
       "<div>\n",
       "<style scoped>\n",
       "    .dataframe tbody tr th:only-of-type {\n",
       "        vertical-align: middle;\n",
       "    }\n",
       "\n",
       "    .dataframe tbody tr th {\n",
       "        vertical-align: top;\n",
       "    }\n",
       "\n",
       "    .dataframe thead th {\n",
       "        text-align: right;\n",
       "    }\n",
       "</style>\n",
       "<table border=\"1\" class=\"dataframe\">\n",
       "  <thead>\n",
       "    <tr style=\"text-align: right;\">\n",
       "      <th></th>\n",
       "      <th>uuid</th>\n",
       "    </tr>\n",
       "  </thead>\n",
       "  <tbody>\n",
       "    <tr>\n",
       "      <th>count</th>\n",
       "      <td>5000.000000</td>\n",
       "    </tr>\n",
       "    <tr>\n",
       "      <th>mean</th>\n",
       "      <td>2500.500000</td>\n",
       "    </tr>\n",
       "    <tr>\n",
       "      <th>std</th>\n",
       "      <td>1443.520003</td>\n",
       "    </tr>\n",
       "    <tr>\n",
       "      <th>min</th>\n",
       "      <td>1.000000</td>\n",
       "    </tr>\n",
       "    <tr>\n",
       "      <th>25%</th>\n",
       "      <td>1250.750000</td>\n",
       "    </tr>\n",
       "    <tr>\n",
       "      <th>50%</th>\n",
       "      <td>2500.500000</td>\n",
       "    </tr>\n",
       "    <tr>\n",
       "      <th>75%</th>\n",
       "      <td>3750.250000</td>\n",
       "    </tr>\n",
       "    <tr>\n",
       "      <th>max</th>\n",
       "      <td>5000.000000</td>\n",
       "    </tr>\n",
       "  </tbody>\n",
       "</table>\n",
       "</div>"
      ],
      "text/plain": [
       "              uuid\n",
       "count  5000.000000\n",
       "mean   2500.500000\n",
       "std    1443.520003\n",
       "min       1.000000\n",
       "25%    1250.750000\n",
       "50%    2500.500000\n",
       "75%    3750.250000\n",
       "max    5000.000000"
      ]
     },
     "execution_count": 11,
     "metadata": {},
     "output_type": "execute_result"
    }
   ],
   "source": [
    "students.describe()"
   ]
  },
  {
   "cell_type": "code",
   "execution_count": 12,
   "id": "dcd113f9",
   "metadata": {},
   "outputs": [
    {
     "data": {
      "application/vnd.microsoft.datawrangler.viewer.v0+json": {
       "columns": [
        {
         "name": "('uuid', 'name', 'dob', 'sex', 'contact_info', 'job_id', 'num_course_taken', 'current_career_path_id', 'time_spent_hrs')",
         "rawType": "object",
         "type": "unknown"
        },
        {
         "name": "count",
         "rawType": "int64",
         "type": "integer"
        }
       ],
       "ref": "61d543ca-d921-40ac-905e-44bbe2cbd7a3",
       "rows": [
        [
         "(np.int64(1), 'Annabelle Avery', '1943-07-03', 'F', '{\"mailing_address\": \"303 N Timber Key, Irondale, Wisconsin, 84736\", \"email\": \"annabelle_avery9376@woohoo.com\"}', '7.0', '6.0', '1.0', '4.99')",
         "1"
        ],
        [
         "(np.int64(3337), 'Greg Allan', '1968-09-16', 'M', '{\"mailing_address\": \"554 Broad Rose, Flagler Beach, Florida, 65799\", \"email\": \"allan8306@inlook.com\"}', '5.0', '1.0', '7.0', '24.78')",
         "1"
        ],
        [
         "(np.int64(3322), 'Jerald Mendez', '1961-09-18', 'M', '{\"mailing_address\": \"700 SE Quail Vista, Petrey, New Mexico, 49882\", \"email\": \"jerald_mendez392@hmail.com\"}', '2.0', '4.0', '10.0', '6.44')",
         "1"
        ],
        [
         "(np.int64(3323), 'Clarisa Oneill', '1953-12-21', 'F', '{\"mailing_address\": \"799 Pleasant Road, Black Springs, Virginia, 67102\", \"email\": \"clarisa_oneill7269@inlook.com\"}', '4.0', '10.0', '8.0', '16.49')",
         "1"
        ],
        [
         "(np.int64(3324), 'Gertrud Haak', '1988-02-26', 'F', '{\"mailing_address\": \"919 Fork Track, Jordan Valley, Iowa, 90136\", \"email\": \"gertrud_haak8891@coldmail.com\"}', '5.0', '9.0', '10.0', '0.74')",
         "1"
        ],
        [
         "(np.int64(3325), 'Nicky Hardy', '1968-10-23', 'M', '{\"mailing_address\": \"P.O. Box 27122, The Plains, New Hampshire, 40976\", \"email\": \"nicky_hardy2729@inlook.com\"}', '1.0', '2.0', '7.0', '0.54')",
         "1"
        ],
        [
         "(np.int64(3326), 'Kay Murray', '1994-02-13', 'F', '{\"mailing_address\": \"690 Sunny Expressway, Tajique, New Mexico, 31719\", \"email\": \"kay3364@coldmail.com\"}', '4.0', '13.0', '10.0', '0.58')",
         "1"
        ],
        [
         "(np.int64(3327), 'Rogelio Freeman', '1977-03-11', 'M', '{\"mailing_address\": \"690 E Avenue, Baltic village, Florida, 46709\", \"email\": \"rogelio3396@woohoo.com\"}', '4.0', '2.0', '1.0', '8.49')",
         "1"
        ],
        [
         "(np.int64(3328), 'Cornell Paul', '1967-05-02', 'N', '{\"mailing_address\": \"215 Red Crescent Woods, Bear Lake village, Oregon, 03252\", \"email\": \"cornell_paul3626@coldmail.com\"}', '4.0', '4.0', '10.0', '14.91')",
         "1"
        ],
        [
         "(np.int64(3330), 'Betsey Mcgee', '2004-06-28', 'N', '{\"mailing_address\": \"439 Shady Trafficway, Canadian, Minnesota, 51087\", \"email\": \"mcgee3531@coldmail.com\"}', '8.0', '8.0', '1.0', '16.82')",
         "1"
        ],
        [
         "(np.int64(3331), 'Orval de Vos', '1998-05-31', 'M', '{\"mailing_address\": \"768 Silent Skyway, Impact, Idaho, 90270\", \"email\": \"orval_devos4502@coldmail.com\"}', '5.0', '11.0', '1.0', '19.89')",
         "1"
        ],
        [
         "(np.int64(3332), 'Darwin Zamora', '1984-06-13', 'M', '{\"mailing_address\": \"747 S Bridge, Trafalgar, Alaska, 33185\", \"email\": \"darwin7316@coldmail.com\"}', '7.0', '13.0', '3.0', '3.89')",
         "1"
        ],
        [
         "(np.int64(3333), 'Marcelino Veldman', '1992-11-12', 'M', '{\"mailing_address\": \"P.O. Box 81872, Bucksport, Alabama, 60348\", \"email\": \"marcelino2538@woohoo.com\"}', '2.0', '2.0', '10.0', '14.56')",
         "1"
        ],
        [
         "(np.int64(3334), 'Charise Moses', '1988-11-30', 'F', '{\"mailing_address\": \"489 Quaking Acres, North Patchogue, Kentucky, 94027\", \"email\": \"charise_moses6698@hmail.com\"}', '6.0', '1.0', '10.0', '8.02')",
         "1"
        ],
        [
         "(np.int64(3335), 'Birdie Pope', '1995-12-10', 'F', '{\"mailing_address\": \"P.O. Box 36841, Notchie, Colorado, 48999\", \"email\": \"birdie_pope4356@inlook.com\"}', '5.0', '1.0', '5.0', '4.52')",
         "1"
        ],
        [
         "(np.int64(3336), 'Isidro van der Lingen', '1967-05-11', 'M', '{\"mailing_address\": \"872 Wagon Land, Guthrie Center, Colorado, 86498\", \"email\": \"isidro3025@woohoo.com\"}', '7.0', '5.0', '2.0', '12.78')",
         "1"
        ],
        [
         "(np.int64(3338), 'Rachel de Kruijff', '1953-03-01', 'N', '{\"mailing_address\": \"409 SW First Pike, Leary, North Carolina, 43428\", \"email\": \"rachel886@woohoo.com\"}', '4.0', '9.0', '9.0', '28.21')",
         "1"
        ],
        [
         "(np.int64(3320), 'Liberty Sloof', '1956-12-03', 'F', '{\"mailing_address\": \"P.O. Box 74647, Larchwood, Tennessee, 47711\", \"email\": \"sloof2887@inlook.com\"}', '1.0', '15.0', '9.0', '28.25')",
         "1"
        ],
        [
         "(np.int64(3339), 'Albertina Maxwell', '1943-04-12', 'F', '{\"mailing_address\": \"P.O. Box 34847, Shaker Church, Rhode Island, 87551\", \"email\": \"albertina_maxwell842@coldmail.com\"}', '5.0', '13.0', '7.0', '2.15')",
         "1"
        ],
        [
         "(np.int64(3340), 'Kelley Munnickhuijsen', '1946-11-27', 'N', '{\"mailing_address\": \"433 Fallen Berry Mews, Glassboro borough, Minnesota, 05208\", \"email\": \"munnickhuijsen3623@hmail.com\"}', '1.0', '10.0', '7.0', '13.75')",
         "1"
        ],
        [
         "(np.int64(3341), 'Dannie van Leeuwen', '1945-04-07', 'M', '{\"mailing_address\": \"369 Sunny Grove Acres, Hall Summit village, Arkansas, 97409\", \"email\": \"vanleeuwen8358@coldmail.com\"}', '4.0', '13.0', '8.0', '17.37')",
         "1"
        ],
        [
         "(np.int64(3342), 'Carlo Barron', '1996-10-30', 'M', '{\"mailing_address\": \"844 Little Hollow, Loami village, South Dakota, 62119\", \"email\": \"carlo6457@hmail.com\"}', '6.0', '9.0', '2.0', '0.38')",
         "1"
        ],
        [
         "(np.int64(3343), 'Devon van Luijn', '1965-03-15', 'M', '{\"mailing_address\": \"P.O. Box 71654, Mint Hill, North Dakota, 57972\", \"email\": \"devon5819@coldmail.com\"}', '4.0', '13.0', '6.0', '3.14')",
         "1"
        ],
        [
         "(np.int64(3344), 'Orval van der May', '1997-05-05', 'M', '{\"mailing_address\": \"333 Little Lagoon, Sherrelwood, Hawaii, 42478\", \"email\": \"orval1337@coldmail.com\"}', '1.0', '3.0', '9.0', '3.04')",
         "1"
        ],
        [
         "(np.int64(3345), 'Beula Neville', '1994-09-14', 'N', '{\"mailing_address\": \"514 Brook Expressway, Catawba village, South Carolina, 32178\", \"email\": \"beula_neville9226@inlook.com\"}', '3.0', '14.0', '1.0', '10.08')",
         "1"
        ],
        [
         "(np.int64(3347), 'Oswaldo de Loos', '1990-10-19', 'M', '{\"mailing_address\": \"62 Elm Dell, Sissonville, California, 22450\", \"email\": \"deloos1642@inlook.com\"}', '5.0', '12.0', '5.0', '11.0')",
         "1"
        ],
        [
         "(np.int64(3348), 'Shasta Rijckx', '1964-03-14', 'F', '{\"mailing_address\": \"317 Butterfly Dam, Horseshoe Bay, Indiana, 04229\", \"email\": \"rijckx6786@hmail.com\"}', '5.0', '1.0', '8.0', '25.71')",
         "1"
        ],
        [
         "(np.int64(3349), 'Tim Huber', '1990-02-27', 'M', '{\"mailing_address\": \"808 Silver Berry Row, Pottsville, Nevada, 28128\", \"email\": \"tim1077@woohoo.com\"}', '1.0', '4.0', '5.0', '5.5')",
         "1"
        ],
        [
         "(np.int64(3352), 'Alease Hogan', '1988-07-13', 'F', '{\"mailing_address\": \"38 Honey Walk, Bridgewater borough, Texas, 13654\", \"email\": \"alease5306@woohoo.com\"}', '1.0', '13.0', '3.0', '3.47')",
         "1"
        ],
        [
         "(np.int64(3353), 'Junita Henry', '1955-10-22', 'F', '{\"mailing_address\": \"596 Harvest Place, Sandy Lake borough, New Jersey, 87219\", \"email\": \"henry5279@inlook.com\"}', '6.0', '9.0', '9.0', '20.96')",
         "1"
        ],
        [
         "(np.int64(3354), 'Evelyne Mora', '1976-01-17', 'F', '{\"mailing_address\": \"638 Grand Common, Huber Ridge, Missouri, 07541\", \"email\": \"evelyne3762@woohoo.com\"}', '3.0', '14.0', '7.0', '12.03')",
         "1"
        ],
        [
         "(np.int64(3355), 'Vincent Fischer', '1992-05-10', 'M', '{\"mailing_address\": \"967 Blue Prairie Trail, Dentsville, Maine, 88274\", \"email\": \"vincent2977@woohoo.com\"}', '5.0', '0.0', '3.0', '12.47')",
         "1"
        ],
        [
         "(np.int64(3321), 'Kerrie Cortez', '2003-01-16', 'F', '{\"mailing_address\": \"569 Jagged Course Terrace, Raymer, North Dakota, 09258\", \"email\": \"kerrie_cortez8518@hmail.com\"}', '8.0', '13.0', '3.0', '9.53')",
         "1"
        ],
        [
         "(np.int64(3318), 'Florrie van Zanten', '1962-10-19', 'F', '{\"mailing_address\": \"270 Umber Peavey, Gandy, Texas, 35369\", \"email\": \"florrie_vanzanten7127@hmail.com\"}', '7.0', '12.0', '10.0', '1.83')",
         "1"
        ],
        [
         "(np.int64(3124), 'Lorenzo Zwakman', '1970-08-18', 'M', '{\"mailing_address\": \"575 N Skyway, Hooper Bay, Maryland, 05922\", \"email\": \"lorenzo9080@inlook.com\"}', '4.0', '3.0', '2.0', '3.27')",
         "1"
        ],
        [
         "(np.int64(3300), 'Anastacia Wilkinson', '1960-05-17', 'F', '{\"mailing_address\": \"P.O. Box 66631, Wakarusa, Montana, 59560\", \"email\": \"anastacia_wilkinson9986@coldmail.com\"}', '2.0', '1.0', '4.0', '24.97')",
         "1"
        ],
        [
         "(np.int64(3281), 'Terry Meyers', '1986-01-10', 'M', '{\"mailing_address\": \"510 Fallen Rapid Curve, Pennsauken, New York, 34053\", \"email\": \"terry5946@hmail.com\"}', '4.0', '6.0', '9.0', '12.87')",
         "1"
        ],
        [
         "(np.int64(3282), 'Cameron Amptman', '1987-08-31', 'M', '{\"mailing_address\": \"983 Park Terrace, Hereford, Minnesota, 94206\", \"email\": \"amptman6909@woohoo.com\"}', '6.0', '12.0', '5.0', '5.35')",
         "1"
        ],
        [
         "(np.int64(3284), 'Jacquelin George', '1973-07-29', 'F', '{\"mailing_address\": \"P.O. Box 34310, Calion, Louisiana, 31605\", \"email\": \"george2324@hmail.com\"}', '6.0', '15.0', '1.0', '17.54')",
         "1"
        ],
        [
         "(np.int64(3285), 'Dagny Schmitt', '1973-11-13', 'F', '{\"mailing_address\": \"P.O. Box 16409, Langston, North Dakota, 51119\", \"email\": \"schmitt9086@hmail.com\"}', '3.0', '6.0', '6.0', '0.75')",
         "1"
        ],
        [
         "(np.int64(3286), 'Margo Bosschaert', '1994-04-04', 'F', '{\"mailing_address\": \"874 Old Seventh Plain, Marrero, Massachusetts, 29012\", \"email\": \"margo_bosschaert4368@woohoo.com\"}', '3.0', '3.0', '10.0', '10.12')",
         "1"
        ],
        [
         "(np.int64(3288), 'Kimberly Young', '1977-02-17', 'F', '{\"mailing_address\": \"396 Broad Heights, Silver Creek, Florida, 48821\", \"email\": \"kimberly8519@inlook.com\"}', '5.0', '11.0', '10.0', '11.2')",
         "1"
        ],
        [
         "(np.int64(3289), 'Annabelle Friedman', '1984-03-14', 'F', '{\"mailing_address\": \"P.O. Box 32606, Lightstreet, Maine, 85527\", \"email\": \"annabelle_friedman6092@hmail.com\"}', '7.0', '14.0', '5.0', '4.79')",
         "1"
        ],
        [
         "(np.int64(3291), 'Marcos Mills', '1958-03-20', 'N', '{\"mailing_address\": \"931 Cinder Log Place, Fort Chiswell, Nevada, 99736\", \"email\": \"marcos_mills8556@hmail.com\"}', '6.0', '14.0', '9.0', '16.91')",
         "1"
        ],
        [
         "(np.int64(3292), 'Andre van Osch', '1957-01-08', 'M', '{\"mailing_address\": \"P.O. Box 36521, Buena Park, Vermont, 63165\", \"email\": \"andre_vanosch3475@coldmail.com\"}', '1.0', '13.0', '3.0', '11.55')",
         "1"
        ],
        [
         "(np.int64(3294), 'Adam Acosta', '1976-12-09', 'M', '{\"mailing_address\": \"936 Stony Mount, Orange village, Virginia, 87197\", \"email\": \"adam9085@hmail.com\"}', '7.0', '10.0', '10.0', '8.47')",
         "1"
        ],
        [
         "(np.int64(3295), 'Celinda de Graeff', '1972-04-18', 'F', '{\"mailing_address\": \"597 Umber Main, Glen Elder, South Carolina, 80739\", \"email\": \"celinda7515@coldmail.com\"}', '1.0', '5.0', '8.0', '21.4')",
         "1"
        ],
        [
         "(np.int64(3296), 'Rema Parker', '1979-10-15', 'F', '{\"mailing_address\": \"7 Honey End Run, Conway Springs, Iowa, 69687\", \"email\": \"rema_parker3417@hmail.com\"}', '5.0', '9.0', '6.0', '1.46')",
         "1"
        ],
        [
         "(np.int64(3297), 'Marilou Gillespie', '1947-12-23', 'F', '{\"mailing_address\": \"931 Silent Driveway, Donnellson, New Hampshire, 04376\", \"email\": \"gillespie2289@woohoo.com\"}', '4.0', '8.0', '2.0', '7.44')",
         "1"
        ],
        [
         "(np.int64(3299), 'Annmarie Kleijne', '1995-06-13', 'F', '{\"mailing_address\": \"367 Cotton Wall Extension, Volo village, Indiana, 79453\", \"email\": \"annmarie6478@inlook.com\"}', '4.0', '13.0', '6.0', '16.17')",
         "1"
        ]
       ],
       "shape": {
        "columns": 1,
        "rows": 4293
       }
      },
      "text/plain": [
       "uuid  name                    dob         sex  contact_info                                                                                                          job_id  num_course_taken  current_career_path_id  time_spent_hrs\n",
       "1     Annabelle Avery         1943-07-03  F    {\"mailing_address\": \"303 N Timber Key, Irondale, Wisconsin, 84736\", \"email\": \"annabelle_avery9376@woohoo.com\"}        7.0     6.0               1.0                     4.99              1\n",
       "3337  Greg Allan              1968-09-16  M    {\"mailing_address\": \"554 Broad Rose, Flagler Beach, Florida, 65799\", \"email\": \"allan8306@inlook.com\"}                 5.0     1.0               7.0                     24.78             1\n",
       "3322  Jerald Mendez           1961-09-18  M    {\"mailing_address\": \"700 SE Quail Vista, Petrey, New Mexico, 49882\", \"email\": \"jerald_mendez392@hmail.com\"}           2.0     4.0               10.0                    6.44              1\n",
       "3323  Clarisa Oneill          1953-12-21  F    {\"mailing_address\": \"799 Pleasant Road, Black Springs, Virginia, 67102\", \"email\": \"clarisa_oneill7269@inlook.com\"}    4.0     10.0              8.0                     16.49             1\n",
       "3324  Gertrud Haak            1988-02-26  F    {\"mailing_address\": \"919 Fork Track, Jordan Valley, Iowa, 90136\", \"email\": \"gertrud_haak8891@coldmail.com\"}           5.0     9.0               10.0                    0.74              1\n",
       "                                                                                                                                                                                                                                        ..\n",
       "1668  Mervin Bradshaw         2003-04-25  M    {\"mailing_address\": \"269 Lost Mall Shore, Oconto Falls, North Carolina, 01316\", \"email\": \"bradshaw641@coldmail.com\"}  8.0     8.0               1.0                     19.3              1\n",
       "1670  Bernardo Montes         2001-08-05  M    {\"mailing_address\": \"353 NW Well Street, De Graff village, Vermont, 64718\", \"email\": \"bernardo3706@inlook.com\"}       3.0     12.0              5.0                     2.12              1\n",
       "1671  Lee van der Sluijs      1954-03-13  N    {\"mailing_address\": \"561 Quiet Trail, Lisle village, Arizona, 62788\", \"email\": \"lee5111@hmail.com\"}                   4.0     7.0               8.0                     7.47              1\n",
       "1672  Clarissa van Bolswaerd  1995-11-05  F    {\"mailing_address\": \"206 Robin Harbor, West Carson, Indiana, 18468\", \"email\": \"clarissa2901@woohoo.com\"}              5.0     5.0               9.0                     5.4               1\n",
       "5000  Elton Otway             1994-12-23  M    {\"mailing_address\": \"406 Zephyr Port, Oskaloosa, Alabama, 74534\", \"email\": \"elton_otway5644@inlook.com\"}              2.0     5.0               3.0                     10.04             1\n",
       "Name: count, Length: 4293, dtype: int64"
      ]
     },
     "execution_count": 12,
     "metadata": {},
     "output_type": "execute_result"
    }
   ],
   "source": [
    "students.value_counts(dropna=True)"
   ]
  },
  {
   "cell_type": "code",
   "execution_count": 13,
   "id": "2c22ecdd",
   "metadata": {},
   "outputs": [
    {
     "data": {
      "application/vnd.microsoft.datawrangler.viewer.v0+json": {
       "columns": [
        {
         "name": "index",
         "rawType": "int64",
         "type": "integer"
        },
        {
         "name": "career_path_id",
         "rawType": "int64",
         "type": "integer"
        },
        {
         "name": "career_path_name",
         "rawType": "object",
         "type": "string"
        },
        {
         "name": "hours_to_complete",
         "rawType": "int64",
         "type": "integer"
        }
       ],
       "ref": "8d4e6154-d1fa-4582-b728-b4090a46c422",
       "rows": [
        [
         "0",
         "1",
         "data scientist",
         "20"
        ],
        [
         "1",
         "2",
         "data engineer",
         "20"
        ],
        [
         "2",
         "3",
         "data analyst",
         "12"
        ],
        [
         "3",
         "4",
         "software engineering",
         "25"
        ],
        [
         "4",
         "5",
         "backend engineer",
         "18"
        ]
       ],
       "shape": {
        "columns": 3,
        "rows": 5
       }
      },
      "text/html": [
       "<div>\n",
       "<style scoped>\n",
       "    .dataframe tbody tr th:only-of-type {\n",
       "        vertical-align: middle;\n",
       "    }\n",
       "\n",
       "    .dataframe tbody tr th {\n",
       "        vertical-align: top;\n",
       "    }\n",
       "\n",
       "    .dataframe thead th {\n",
       "        text-align: right;\n",
       "    }\n",
       "</style>\n",
       "<table border=\"1\" class=\"dataframe\">\n",
       "  <thead>\n",
       "    <tr style=\"text-align: right;\">\n",
       "      <th></th>\n",
       "      <th>career_path_id</th>\n",
       "      <th>career_path_name</th>\n",
       "      <th>hours_to_complete</th>\n",
       "    </tr>\n",
       "  </thead>\n",
       "  <tbody>\n",
       "    <tr>\n",
       "      <th>0</th>\n",
       "      <td>1</td>\n",
       "      <td>data scientist</td>\n",
       "      <td>20</td>\n",
       "    </tr>\n",
       "    <tr>\n",
       "      <th>1</th>\n",
       "      <td>2</td>\n",
       "      <td>data engineer</td>\n",
       "      <td>20</td>\n",
       "    </tr>\n",
       "    <tr>\n",
       "      <th>2</th>\n",
       "      <td>3</td>\n",
       "      <td>data analyst</td>\n",
       "      <td>12</td>\n",
       "    </tr>\n",
       "    <tr>\n",
       "      <th>3</th>\n",
       "      <td>4</td>\n",
       "      <td>software engineering</td>\n",
       "      <td>25</td>\n",
       "    </tr>\n",
       "    <tr>\n",
       "      <th>4</th>\n",
       "      <td>5</td>\n",
       "      <td>backend engineer</td>\n",
       "      <td>18</td>\n",
       "    </tr>\n",
       "  </tbody>\n",
       "</table>\n",
       "</div>"
      ],
      "text/plain": [
       "   career_path_id      career_path_name  hours_to_complete\n",
       "0               1        data scientist                 20\n",
       "1               2         data engineer                 20\n",
       "2               3          data analyst                 12\n",
       "3               4  software engineering                 25\n",
       "4               5      backend engineer                 18"
      ]
     },
     "execution_count": 13,
     "metadata": {},
     "output_type": "execute_result"
    }
   ],
   "source": [
    "courses = pd.read_sql_query(\"SELECT * FROM cademycode_courses\", con)\n",
    "courses.head()"
   ]
  },
  {
   "cell_type": "code",
   "execution_count": 14,
   "id": "8060599b",
   "metadata": {},
   "outputs": [
    {
     "name": "stdout",
     "output_type": "stream",
     "text": [
      "<class 'pandas.core.frame.DataFrame'>\n",
      "RangeIndex: 10 entries, 0 to 9\n",
      "Data columns (total 3 columns):\n",
      " #   Column             Non-Null Count  Dtype \n",
      "---  ------             --------------  ----- \n",
      " 0   career_path_id     10 non-null     int64 \n",
      " 1   career_path_name   10 non-null     object\n",
      " 2   hours_to_complete  10 non-null     int64 \n",
      "dtypes: int64(2), object(1)\n",
      "memory usage: 372.0+ bytes\n"
     ]
    }
   ],
   "source": [
    "courses.info()"
   ]
  },
  {
   "cell_type": "code",
   "execution_count": 15,
   "id": "28ea043f",
   "metadata": {},
   "outputs": [
    {
     "data": {
      "application/vnd.microsoft.datawrangler.viewer.v0+json": {
       "columns": [
        {
         "name": "index",
         "rawType": "object",
         "type": "string"
        },
        {
         "name": "0",
         "rawType": "int64",
         "type": "integer"
        }
       ],
       "ref": "d2ac7f6d-5db2-4bc9-a043-881e92c3083e",
       "rows": [
        [
         "career_path_id",
         "10"
        ],
        [
         "career_path_name",
         "10"
        ],
        [
         "hours_to_complete",
         "7"
        ]
       ],
       "shape": {
        "columns": 1,
        "rows": 3
       }
      },
      "text/plain": [
       "career_path_id       10\n",
       "career_path_name     10\n",
       "hours_to_complete     7\n",
       "dtype: int64"
      ]
     },
     "execution_count": 15,
     "metadata": {},
     "output_type": "execute_result"
    }
   ],
   "source": [
    "courses.drop_duplicates(inplace=True)\n",
    "courses.nunique()"
   ]
  },
  {
   "cell_type": "code",
   "execution_count": 16,
   "id": "0977b1fa",
   "metadata": {},
   "outputs": [
    {
     "data": {
      "application/vnd.microsoft.datawrangler.viewer.v0+json": {
       "columns": [
        {
         "name": "index",
         "rawType": "object",
         "type": "string"
        },
        {
         "name": "career_path_id",
         "rawType": "float64",
         "type": "float"
        },
        {
         "name": "hours_to_complete",
         "rawType": "float64",
         "type": "float"
        }
       ],
       "ref": "f6418a8a-0a7d-445a-bc52-11ac97693d7d",
       "rows": [
        [
         "count",
         "10.0",
         "10.0"
        ],
        [
         "mean",
         "5.5",
         "21.9"
        ],
        [
         "std",
         "3.0276503540974917",
         "6.707375708046247"
        ],
        [
         "min",
         "1.0",
         "12.0"
        ],
        [
         "25%",
         "3.25",
         "18.5"
        ],
        [
         "50%",
         "5.5",
         "20.0"
        ],
        [
         "75%",
         "7.75",
         "26.5"
        ],
        [
         "max",
         "10.0",
         "35.0"
        ]
       ],
       "shape": {
        "columns": 2,
        "rows": 8
       }
      },
      "text/html": [
       "<div>\n",
       "<style scoped>\n",
       "    .dataframe tbody tr th:only-of-type {\n",
       "        vertical-align: middle;\n",
       "    }\n",
       "\n",
       "    .dataframe tbody tr th {\n",
       "        vertical-align: top;\n",
       "    }\n",
       "\n",
       "    .dataframe thead th {\n",
       "        text-align: right;\n",
       "    }\n",
       "</style>\n",
       "<table border=\"1\" class=\"dataframe\">\n",
       "  <thead>\n",
       "    <tr style=\"text-align: right;\">\n",
       "      <th></th>\n",
       "      <th>career_path_id</th>\n",
       "      <th>hours_to_complete</th>\n",
       "    </tr>\n",
       "  </thead>\n",
       "  <tbody>\n",
       "    <tr>\n",
       "      <th>count</th>\n",
       "      <td>10.00000</td>\n",
       "      <td>10.000000</td>\n",
       "    </tr>\n",
       "    <tr>\n",
       "      <th>mean</th>\n",
       "      <td>5.50000</td>\n",
       "      <td>21.900000</td>\n",
       "    </tr>\n",
       "    <tr>\n",
       "      <th>std</th>\n",
       "      <td>3.02765</td>\n",
       "      <td>6.707376</td>\n",
       "    </tr>\n",
       "    <tr>\n",
       "      <th>min</th>\n",
       "      <td>1.00000</td>\n",
       "      <td>12.000000</td>\n",
       "    </tr>\n",
       "    <tr>\n",
       "      <th>25%</th>\n",
       "      <td>3.25000</td>\n",
       "      <td>18.500000</td>\n",
       "    </tr>\n",
       "    <tr>\n",
       "      <th>50%</th>\n",
       "      <td>5.50000</td>\n",
       "      <td>20.000000</td>\n",
       "    </tr>\n",
       "    <tr>\n",
       "      <th>75%</th>\n",
       "      <td>7.75000</td>\n",
       "      <td>26.500000</td>\n",
       "    </tr>\n",
       "    <tr>\n",
       "      <th>max</th>\n",
       "      <td>10.00000</td>\n",
       "      <td>35.000000</td>\n",
       "    </tr>\n",
       "  </tbody>\n",
       "</table>\n",
       "</div>"
      ],
      "text/plain": [
       "       career_path_id  hours_to_complete\n",
       "count        10.00000          10.000000\n",
       "mean          5.50000          21.900000\n",
       "std           3.02765           6.707376\n",
       "min           1.00000          12.000000\n",
       "25%           3.25000          18.500000\n",
       "50%           5.50000          20.000000\n",
       "75%           7.75000          26.500000\n",
       "max          10.00000          35.000000"
      ]
     },
     "execution_count": 16,
     "metadata": {},
     "output_type": "execute_result"
    }
   ],
   "source": [
    "courses.describe()"
   ]
  },
  {
   "cell_type": "code",
   "execution_count": 17,
   "id": "d144f947",
   "metadata": {},
   "outputs": [
    {
     "data": {
      "application/vnd.microsoft.datawrangler.viewer.v0+json": {
       "columns": [
        {
         "name": "index",
         "rawType": "object",
         "type": "string"
        },
        {
         "name": "0",
         "rawType": "int64",
         "type": "integer"
        }
       ],
       "ref": "537ea0e4-49d2-474c-b732-79c7521ed99f",
       "rows": [
        [
         "career_path_id",
         "0"
        ],
        [
         "career_path_name",
         "0"
        ],
        [
         "hours_to_complete",
         "0"
        ]
       ],
       "shape": {
        "columns": 1,
        "rows": 3
       }
      },
      "text/plain": [
       "career_path_id       0\n",
       "career_path_name     0\n",
       "hours_to_complete    0\n",
       "dtype: int64"
      ]
     },
     "execution_count": 17,
     "metadata": {},
     "output_type": "execute_result"
    }
   ],
   "source": [
    "courses.isna().sum()"
   ]
  },
  {
   "cell_type": "code",
   "execution_count": 18,
   "id": "f2e500a3",
   "metadata": {},
   "outputs": [
    {
     "data": {
      "application/vnd.microsoft.datawrangler.viewer.v0+json": {
       "columns": [
        {
         "name": "('career_path_id', 'career_path_name', 'hours_to_complete')",
         "rawType": "object",
         "type": "unknown"
        },
        {
         "name": "count",
         "rawType": "int64",
         "type": "integer"
        }
       ],
       "ref": "d018fc79-3545-476f-a581-5c8067956227",
       "rows": [
        [
         "(np.int64(1), 'data scientist', np.int64(20))",
         "1"
        ],
        [
         "(np.int64(2), 'data engineer', np.int64(20))",
         "1"
        ],
        [
         "(np.int64(3), 'data analyst', np.int64(12))",
         "1"
        ],
        [
         "(np.int64(4), 'software engineering', np.int64(25))",
         "1"
        ],
        [
         "(np.int64(5), 'backend engineer', np.int64(18))",
         "1"
        ],
        [
         "(np.int64(6), 'frontend engineer', np.int64(20))",
         "1"
        ],
        [
         "(np.int64(7), 'iOS developer', np.int64(27))",
         "1"
        ],
        [
         "(np.int64(8), 'android developer', np.int64(27))",
         "1"
        ],
        [
         "(np.int64(9), 'machine learning engineer', np.int64(35))",
         "1"
        ],
        [
         "(np.int64(10), 'ux/ui designer', np.int64(15))",
         "1"
        ]
       ],
       "shape": {
        "columns": 1,
        "rows": 10
       }
      },
      "text/plain": [
       "career_path_id  career_path_name           hours_to_complete\n",
       "1               data scientist             20                   1\n",
       "2               data engineer              20                   1\n",
       "3               data analyst               12                   1\n",
       "4               software engineering       25                   1\n",
       "5               backend engineer           18                   1\n",
       "6               frontend engineer          20                   1\n",
       "7               iOS developer              27                   1\n",
       "8               android developer          27                   1\n",
       "9               machine learning engineer  35                   1\n",
       "10              ux/ui designer             15                   1\n",
       "Name: count, dtype: int64"
      ]
     },
     "execution_count": 18,
     "metadata": {},
     "output_type": "execute_result"
    }
   ],
   "source": [
    "courses.value_counts()"
   ]
  },
  {
   "cell_type": "code",
   "execution_count": 19,
   "id": "ad14647b",
   "metadata": {},
   "outputs": [
    {
     "data": {
      "application/vnd.microsoft.datawrangler.viewer.v0+json": {
       "columns": [
        {
         "name": "index",
         "rawType": "int64",
         "type": "integer"
        },
        {
         "name": "job_id",
         "rawType": "int64",
         "type": "integer"
        },
        {
         "name": "job_category",
         "rawType": "object",
         "type": "string"
        },
        {
         "name": "avg_salary",
         "rawType": "int64",
         "type": "integer"
        }
       ],
       "ref": "e16c2275-1c5e-4d99-b307-314433dcd90f",
       "rows": [
        [
         "0",
         "1",
         "analytics",
         "86000"
        ],
        [
         "1",
         "2",
         "engineer",
         "101000"
        ],
        [
         "2",
         "3",
         "software developer",
         "110000"
        ],
        [
         "3",
         "4",
         "creative",
         "66000"
        ],
        [
         "4",
         "5",
         "financial services",
         "135000"
        ]
       ],
       "shape": {
        "columns": 3,
        "rows": 5
       }
      },
      "text/html": [
       "<div>\n",
       "<style scoped>\n",
       "    .dataframe tbody tr th:only-of-type {\n",
       "        vertical-align: middle;\n",
       "    }\n",
       "\n",
       "    .dataframe tbody tr th {\n",
       "        vertical-align: top;\n",
       "    }\n",
       "\n",
       "    .dataframe thead th {\n",
       "        text-align: right;\n",
       "    }\n",
       "</style>\n",
       "<table border=\"1\" class=\"dataframe\">\n",
       "  <thead>\n",
       "    <tr style=\"text-align: right;\">\n",
       "      <th></th>\n",
       "      <th>job_id</th>\n",
       "      <th>job_category</th>\n",
       "      <th>avg_salary</th>\n",
       "    </tr>\n",
       "  </thead>\n",
       "  <tbody>\n",
       "    <tr>\n",
       "      <th>0</th>\n",
       "      <td>1</td>\n",
       "      <td>analytics</td>\n",
       "      <td>86000</td>\n",
       "    </tr>\n",
       "    <tr>\n",
       "      <th>1</th>\n",
       "      <td>2</td>\n",
       "      <td>engineer</td>\n",
       "      <td>101000</td>\n",
       "    </tr>\n",
       "    <tr>\n",
       "      <th>2</th>\n",
       "      <td>3</td>\n",
       "      <td>software developer</td>\n",
       "      <td>110000</td>\n",
       "    </tr>\n",
       "    <tr>\n",
       "      <th>3</th>\n",
       "      <td>4</td>\n",
       "      <td>creative</td>\n",
       "      <td>66000</td>\n",
       "    </tr>\n",
       "    <tr>\n",
       "      <th>4</th>\n",
       "      <td>5</td>\n",
       "      <td>financial services</td>\n",
       "      <td>135000</td>\n",
       "    </tr>\n",
       "  </tbody>\n",
       "</table>\n",
       "</div>"
      ],
      "text/plain": [
       "   job_id        job_category  avg_salary\n",
       "0       1           analytics       86000\n",
       "1       2            engineer      101000\n",
       "2       3  software developer      110000\n",
       "3       4            creative       66000\n",
       "4       5  financial services      135000"
      ]
     },
     "execution_count": 19,
     "metadata": {},
     "output_type": "execute_result"
    }
   ],
   "source": [
    "student_jobs = pd.read_sql_query(\"SELECT * FROM cademycode_student_jobs\", con)\n",
    "student_jobs.head()"
   ]
  },
  {
   "cell_type": "code",
   "execution_count": 20,
   "id": "f59c66f0",
   "metadata": {},
   "outputs": [
    {
     "name": "stdout",
     "output_type": "stream",
     "text": [
      "<class 'pandas.core.frame.DataFrame'>\n",
      "RangeIndex: 13 entries, 0 to 12\n",
      "Data columns (total 3 columns):\n",
      " #   Column        Non-Null Count  Dtype \n",
      "---  ------        --------------  ----- \n",
      " 0   job_id        13 non-null     int64 \n",
      " 1   job_category  13 non-null     object\n",
      " 2   avg_salary    13 non-null     int64 \n",
      "dtypes: int64(2), object(1)\n",
      "memory usage: 444.0+ bytes\n"
     ]
    }
   ],
   "source": [
    "student_jobs.info()"
   ]
  },
  {
   "cell_type": "code",
   "execution_count": 21,
   "id": "1dac054b",
   "metadata": {},
   "outputs": [
    {
     "data": {
      "application/vnd.microsoft.datawrangler.viewer.v0+json": {
       "columns": [
        {
         "name": "index",
         "rawType": "object",
         "type": "string"
        },
        {
         "name": "job_id",
         "rawType": "float64",
         "type": "float"
        },
        {
         "name": "avg_salary",
         "rawType": "float64",
         "type": "float"
        }
       ],
       "ref": "48ef920b-9c6f-47e3-8fc2-712c9c9609e8",
       "rows": [
        [
         "count",
         "13.0",
         "13.0"
        ],
        [
         "mean",
         "4.384615384615385",
         "89230.76923076923"
        ],
        [
         "std",
         "2.6626572422569885",
         "34727.879880949265"
        ],
        [
         "min",
         "0.0",
         "10000.0"
        ],
        [
         "25%",
         "3.0",
         "66000.0"
        ],
        [
         "50%",
         "4.0",
         "86000.0"
        ],
        [
         "75%",
         "6.0",
         "110000.0"
        ],
        [
         "max",
         "9.0",
         "135000.0"
        ]
       ],
       "shape": {
        "columns": 2,
        "rows": 8
       }
      },
      "text/html": [
       "<div>\n",
       "<style scoped>\n",
       "    .dataframe tbody tr th:only-of-type {\n",
       "        vertical-align: middle;\n",
       "    }\n",
       "\n",
       "    .dataframe tbody tr th {\n",
       "        vertical-align: top;\n",
       "    }\n",
       "\n",
       "    .dataframe thead th {\n",
       "        text-align: right;\n",
       "    }\n",
       "</style>\n",
       "<table border=\"1\" class=\"dataframe\">\n",
       "  <thead>\n",
       "    <tr style=\"text-align: right;\">\n",
       "      <th></th>\n",
       "      <th>job_id</th>\n",
       "      <th>avg_salary</th>\n",
       "    </tr>\n",
       "  </thead>\n",
       "  <tbody>\n",
       "    <tr>\n",
       "      <th>count</th>\n",
       "      <td>13.000000</td>\n",
       "      <td>13.000000</td>\n",
       "    </tr>\n",
       "    <tr>\n",
       "      <th>mean</th>\n",
       "      <td>4.384615</td>\n",
       "      <td>89230.769231</td>\n",
       "    </tr>\n",
       "    <tr>\n",
       "      <th>std</th>\n",
       "      <td>2.662657</td>\n",
       "      <td>34727.879881</td>\n",
       "    </tr>\n",
       "    <tr>\n",
       "      <th>min</th>\n",
       "      <td>0.000000</td>\n",
       "      <td>10000.000000</td>\n",
       "    </tr>\n",
       "    <tr>\n",
       "      <th>25%</th>\n",
       "      <td>3.000000</td>\n",
       "      <td>66000.000000</td>\n",
       "    </tr>\n",
       "    <tr>\n",
       "      <th>50%</th>\n",
       "      <td>4.000000</td>\n",
       "      <td>86000.000000</td>\n",
       "    </tr>\n",
       "    <tr>\n",
       "      <th>75%</th>\n",
       "      <td>6.000000</td>\n",
       "      <td>110000.000000</td>\n",
       "    </tr>\n",
       "    <tr>\n",
       "      <th>max</th>\n",
       "      <td>9.000000</td>\n",
       "      <td>135000.000000</td>\n",
       "    </tr>\n",
       "  </tbody>\n",
       "</table>\n",
       "</div>"
      ],
      "text/plain": [
       "          job_id     avg_salary\n",
       "count  13.000000      13.000000\n",
       "mean    4.384615   89230.769231\n",
       "std     2.662657   34727.879881\n",
       "min     0.000000   10000.000000\n",
       "25%     3.000000   66000.000000\n",
       "50%     4.000000   86000.000000\n",
       "75%     6.000000  110000.000000\n",
       "max     9.000000  135000.000000"
      ]
     },
     "execution_count": 21,
     "metadata": {},
     "output_type": "execute_result"
    }
   ],
   "source": [
    "student_jobs.describe()"
   ]
  },
  {
   "cell_type": "code",
   "execution_count": 22,
   "id": "79538538",
   "metadata": {},
   "outputs": [
    {
     "data": {
      "application/vnd.microsoft.datawrangler.viewer.v0+json": {
       "columns": [
        {
         "name": "('job_id', 'job_category', 'avg_salary')",
         "rawType": "object",
         "type": "unknown"
        },
        {
         "name": "count",
         "rawType": "int64",
         "type": "integer"
        }
       ],
       "ref": "6c1e64de-272d-4c4b-8937-d933eeddee4d",
       "rows": [
        [
         "(np.int64(3), 'software developer', np.int64(110000))",
         "2"
        ],
        [
         "(np.int64(4), 'creative', np.int64(66000))",
         "2"
        ],
        [
         "(np.int64(5), 'financial services', np.int64(135000))",
         "2"
        ],
        [
         "(np.int64(0), 'other', np.int64(80000))",
         "1"
        ],
        [
         "(np.int64(1), 'analytics', np.int64(86000))",
         "1"
        ],
        [
         "(np.int64(2), 'engineer', np.int64(101000))",
         "1"
        ],
        [
         "(np.int64(6), 'education', np.int64(61000))",
         "1"
        ],
        [
         "(np.int64(7), 'HR', np.int64(80000))",
         "1"
        ],
        [
         "(np.int64(8), 'student', np.int64(10000))",
         "1"
        ],
        [
         "(np.int64(9), 'healthcare', np.int64(120000))",
         "1"
        ]
       ],
       "shape": {
        "columns": 1,
        "rows": 10
       }
      },
      "text/plain": [
       "job_id  job_category        avg_salary\n",
       "3       software developer  110000        2\n",
       "4       creative            66000         2\n",
       "5       financial services  135000        2\n",
       "0       other               80000         1\n",
       "1       analytics           86000         1\n",
       "2       engineer            101000        1\n",
       "6       education           61000         1\n",
       "7       HR                  80000         1\n",
       "8       student             10000         1\n",
       "9       healthcare          120000        1\n",
       "Name: count, dtype: int64"
      ]
     },
     "execution_count": 22,
     "metadata": {},
     "output_type": "execute_result"
    }
   ],
   "source": [
    "student_jobs.value_counts()"
   ]
  }
 ],
 "metadata": {
  "kernelspec": {
   "display_name": "data_engineering_pipeline",
   "language": "python",
   "name": "python3"
  },
  "language_info": {
   "codemirror_mode": {
    "name": "ipython",
    "version": 3
   },
   "file_extension": ".py",
   "mimetype": "text/x-python",
   "name": "python",
   "nbconvert_exporter": "python",
   "pygments_lexer": "ipython3",
   "version": "3.13.6"
  }
 },
 "nbformat": 4,
 "nbformat_minor": 5
}
